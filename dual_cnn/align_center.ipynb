{
 "cells": [
  {
   "cell_type": "code",
   "execution_count": 28,
   "metadata": {},
   "outputs": [
    {
     "data": {
      "text/plain": [
       "<module 'rmsd_functions' from '/home/users/jvs15/project-protein-fold/dual_cnn/OR_alignment/rmsd_functions.py'>"
      ]
     },
     "execution_count": 28,
     "metadata": {},
     "output_type": "execute_result"
    }
   ],
   "source": [
    "import numpy as np\n",
    "import pandas as pd\n",
    "import sys\n",
    "import os\n",
    "import copy\n",
    "import plotly.express as px\n",
    "import importlib\n",
    "import pickle\n",
    "os.chdir('/home/users/jvs15/project-protein-fold/dual_cnn/OR_alignment')\n",
    "import rmsd_functions as rmsd\n",
    "importlib.reload(rmsd)"
   ]
  },
  {
   "cell_type": "code",
   "execution_count": 29,
   "metadata": {},
   "outputs": [],
   "source": [
    "Aligned_ORs = pd.read_csv('/home/users/jvs15/project-protein-fold/dual_cnn/OR_alignment/OR_sequence_table.csv', index_col=[0])\n",
    "Aligned_ORs = list(Aligned_ORs.index)"
   ]
  },
  {
   "cell_type": "code",
   "execution_count": 30,
   "metadata": {},
   "outputs": [
    {
     "name": "stdout",
     "output_type": "stream",
     "text": [
      "[2.7519206349206353, 6.195484126984126, -6.388984126984128]\n"
     ]
    }
   ],
   "source": [
    "# Center Olfr73 on its binding site\n",
    "# Known binding site residues come from https://www.nature.com/articles/s42003-019-0384-8\n",
    "\n",
    "f = '/home/users/jvs15/project-protein-fold/dual_cnn/OR_alignment/AF_pdb/Olfr73_mOR-EG.pdb'\n",
    "coord = rmsd.get_coordinates_pdb(f)\n",
    "\n",
    "atomlist = [102, 105, 106, 109, 181, 182, 199, 203, 208, 259, 260, 273, 277, 280]\n",
    "xatom = []\n",
    "yatom = []\n",
    "zatom = []\n",
    "for i in range(len(coord[0])):\n",
    "\n",
    "    if coord[2][i] in atomlist:\n",
    "        xatom.append(coord[1][i][0])\n",
    "        yatom.append(coord[1][i][1])\n",
    "        zatom.append(coord[1][i][2])\n",
    "geo_center = [np.mean(np.asarray(xatom)), \n",
    "              np.mean(np.asarray(yatom)), \n",
    "              np.mean(np.asarray(zatom))]\n",
    "\n",
    "print(geo_center)\n",
    "\n"
   ]
  },
  {
   "cell_type": "code",
   "execution_count": null,
   "metadata": {},
   "outputs": [],
   "source": [
    "pdb_dir = '/home/users/jvs15/project-protein-fold/dual_cnn/OR_alignment/AF_pdb/Original'\n",
    "pdb_files = os.listdir(pdb_dir)\n",
    "pdb_files = [pdb for pdb in pdb_files if \".pdb\" in pdb]\n",
    "data = {}\n",
    "for file in pdb_files:\n",
    "    name = file.split('.')[0]\n",
    "    for i in name.split('_'): # if there are multiple Olfr names for a single file, take the first 'Olfr' string\n",
    "        if 'Olfr' in name: \n",
    "            name = name\n",
    "            break\n",
    "    name = name.split('-')[0]\n",
    "    if not name in Aligned_ORs:\n",
    "#         print(name + ' NOT added')\n",
    "        continue\n",
    "    atom, coord, resid = rmsd.get_coordinates_pdb(f'{pdb_dir}/{file}')\n",
    "    coord -= rmsd.centroid(coord)\n",
    "    coord -= geo_center\n",
    "    data[name] = {}\n",
    "    data[name][\"atom\"] = atom\n",
    "    data[name][\"coord\"] = coord\n",
    "    data[name][\"resid\"] = resid\n"
   ]
  },
  {
   "cell_type": "code",
   "execution_count": null,
   "metadata": {},
   "outputs": [],
   "source": [
    "pickle_file = open('existing_symb_to_unip.p', 'rb')\n",
    "d = pickle.load(pickle_file)\n",
    "print(d)\n",
    "\n"
   ]
  }
 ],
 "metadata": {
  "interpreter": {
   "hash": "9527a7327203aedd8e2ebbc16ca4eaa239732d0679c5769206fa6f11c48c955d"
  },
  "kernelspec": {
   "display_name": "Python 3.9.13 64-bit ('moleculekit': conda)",
   "name": "python3"
  },
  "language_info": {
   "codemirror_mode": {
    "name": "ipython",
    "version": 3
   },
   "file_extension": ".py",
   "mimetype": "text/x-python",
   "name": "python",
   "nbconvert_exporter": "python",
   "pygments_lexer": "ipython3",
   "version": "3.9.13"
  },
  "orig_nbformat": 4
 },
 "nbformat": 4,
 "nbformat_minor": 2
}
